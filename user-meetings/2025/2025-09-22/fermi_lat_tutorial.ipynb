{
 "cells": [
  {
   "cell_type": "markdown",
   "metadata": {},
   "source": [
    "\n",
    "# Fermi-LAT with Gammapy\n",
    "\n",
    "Data inspection and preliminary analysis with Fermi-LAT data.\n",
    "\n",
    "## Introduction\n",
    "\n",
    "Gammapy fully supports Fermi-LAT data analysis from DL4 level (binned\n",
    "maps). In order to perform data reduction from the events list and\n",
    "spacecraft files to binned counts and IRFs maps we recommend to use\n",
    "[Fermipy](http://fermipy.readthedocs.io/)_, which is based on\n",
    "the [Fermi Science\n",
    "Tools](https://fermi.gsfc.nasa.gov/ssc/data/analysis/software/)_\n",
    "(Fermi ST).\n",
    "\n",
    "Using Gammapy with Fermi-LAT data could be an option for you if you want\n",
    "to do an analysis that is not easily possible with Fermipy and the Fermi\n",
    "Science Tools. For example a joint likelihood fit of Fermi-LAT data with\n",
    "data e.g. from H.E.S.S., MAGIC, VERITAS or some other instrument, or\n",
    "analysis of Fermi-LAT data with a complex spatial or spectral model that\n",
    "is not available in Fermipy or the Fermi ST.\n",
    "\n",
    "This tutorial will show you how to convert Fermi-LAT data into a DL4\n",
    "format  that can be used by Gammapy (`~gammapy.datasets.MapDataset`) and perform a 3D analysis. As an\n",
    "example, we will look at the Galactic center.\n",
    "We are going to analyses high-energy data from 10 GeV from 1 TeV (in reconstructed energy).\n",
    "\n",
    "## Setup\n",
    "\n",
    "For this notebook you have to get the prepared\n",
    "`fermi-gc` data provided in your `$GAMMAPY_DATA`.\n"
   ]
  },
  {
   "cell_type": "code",
   "execution_count": 1,
   "metadata": {
    "jupyter": {
     "source_hidden": true
    }
   },
   "outputs": [],
   "source": [
    "# %matplotlib inline\n",
    "\n",
    "import numpy as np\n",
    "from astropy import units as u\n",
    "import matplotlib.pyplot as plt\n",
    "\n",
    "from gammapy.catalog import CATALOG_REGISTRY\n",
    "from gammapy.datasets import Datasets, FermipyDatasetsReader\n",
    "from gammapy.estimators import TSMapEstimator\n",
    "from gammapy.maps import Map\n",
    "from gammapy.modeling import Fit\n",
    "from gammapy.modeling.models import (\n",
    "    Models,\n",
    "    PointSpatialModel,\n",
    "    PowerLawSpectralModel,\n",
    "    TemplateSpatialModel,\n",
    "    SkyModel,\n",
    "    PowerLawNormSpectralModel,\n",
    ")\n",
    "from gammapy.utils.scripts import make_path"
   ]
  },
  {
   "cell_type": "markdown",
   "metadata": {},
   "source": [
    "### Check setup\n",
    "\n",
    "We check the setup in this tutorial, as we require specific files to be\n",
    "downloaded to continue.\n",
    "\n"
   ]
  },
  {
   "cell_type": "code",
   "execution_count": 2,
   "metadata": {
    "collapsed": true,
    "jupyter": {
     "outputs_hidden": true
    }
   },
   "outputs": [
    {
     "name": "stdout",
     "output_type": "stream",
     "text": [
      "\n",
      "System:\n",
      "\n",
      "\tpython_executable      : /Users/qremy/anaconda3/envs/gpy-dev/bin/python \n",
      "\tpython_version         : 3.11.10    \n",
      "\tmachine                : x86_64     \n",
      "\tsystem                 : Darwin     \n",
      "\n",
      "\n",
      "Gammapy package:\n",
      "\n",
      "\tversion                : 2.0.dev2046+g36d1c660f \n",
      "\tpath                   : /Users/qremy/Work/GitHub/gammapy/gammapy \n",
      "\n"
     ]
    },
    {
     "name": "stderr",
     "output_type": "stream",
     "text": [
      "OMP: Info #276: omp_set_nested routine deprecated, please use omp_set_max_active_levels instead.\n"
     ]
    },
    {
     "name": "stdout",
     "output_type": "stream",
     "text": [
      "\n",
      "Other packages:\n",
      "\n",
      "\tnumpy                  : 2.1.3      \n",
      "\tscipy                  : 1.16.1     \n",
      "\tastropy                : 7.1.0      \n",
      "\tregions                : 0.10       \n",
      "\tclick                  : 8.1.7      \n",
      "\tyaml                   : 6.0.2      \n",
      "\tIPython                : 8.27.0     \n",
      "\tjupyterlab             : 4.2.5      \n",
      "\tmatplotlib             : 3.9.0      \n",
      "\tpandas                 : 2.2.3      \n",
      "\thealpy                 : 1.18.0     \n",
      "\timinuit                : 2.30.1     \n",
      "\tsherpa                 : not installed \n",
      "\tnaima                  : 0.10.0     \n",
      "\temcee                  : 3.1.4      \n",
      "\tcorner                 : 2.2.2      \n",
      "\tray                    : 2.40.0     \n",
      "\n",
      "\n",
      "Gammapy environment variables:\n",
      "\n",
      "\tGAMMAPY_DATA           : /Users/qremy/Work/GitHub/gammapy-data \n",
      "\n"
     ]
    }
   ],
   "source": [
    "from gammapy.utils.check import check_tutorials_setup\n",
    "\n",
    "check_tutorials_setup()"
   ]
  },
  {
   "cell_type": "markdown",
   "metadata": {},
   "source": [
    "## Fermipy configuration file\n",
    "\n",
    "Gammapy can utilise the same configuration file as Fermipy to convert\n",
    "the Fermipy-generated maps into Gammapy datasets. For more information on the\n",
    "structure of these files, refer to the [Fermipy configuration\n",
    "page](https://fermipy.readthedocs.io/en/latest/config.html)_. In this\n",
    "tutorial, we will analyse Galactic center data generated with Fermipy version 1.3 and\n",
    "the configuration given in\n",
    "`$GAMMAPY_DATA/fermi-gc/config_fermipy_gc_example.yaml`:\n",
    "\n",
    "\n"
   ]
  },
  {
   "cell_type": "markdown",
   "metadata": {},
   "source": [
    "```yaml\n",
    "\n",
    "# Fermipy example configuration\n",
    "# for details, see https://fermipy.readthedocs.io/en/latest/config.html\n",
    "# For IRFs, event type and event class options, see https://fermi.gsfc.nasa.gov/ssc/data/analysis/documentation/Cicerone/Cicerone_Data/LAT_DP.html\n",
    "   components:\n",
    "     - model: {isodiff: $FERMI_DIR/refdata/fermi/galdiffuse/iso_P8R3_CLEAN_V3_PSF2_v1.txt}\n",
    "       selection: {evtype: 16}  #4 is PSF0, 8 PSF1, 16 PSF2, 32 PSF3\n",
    "       data: {ltcube: null}\n",
    "     - model: {isodiff: $FERMI_DIR/refdata/fermi/galdiffuse/iso_P8R3_CLEAN_V3_PSF3_v1.txt}\n",
    "       selection: {evtype: 32}\n",
    "       data: {ltcube: null}\n",
    "\n",
    "   data:\n",
    "     evfile : ./raw/events_list.lst\n",
    "     scfile : ./raw/L241227031840F357373F12_SC00.fits\n",
    "\n",
    "   binning:\n",
    "     roiwidth   : 8.0\n",
    "     binsz      : 0.1\n",
    "     binsperdec   : 10\n",
    "     coordsys : GAL\n",
    "     proj: CAR\n",
    "     projtype: WCS\n",
    "\n",
    "   selection :\n",
    "   # gtselect parameters\n",
    "     emin : 3981.0717055349733 # ENERGY TRUE for Gammapy\n",
    "     emax : 2511886.4315095823 # ENERGY TRUE for Gammapy\n",
    "     zmax    : 105 # deg\n",
    "     evclass : 256 # CLEAN\n",
    "     tmin    : 239557417\n",
    "     tmax    : 752112005\n",
    "\n",
    "   # gtmktime parameters\n",
    "     filter : 'DATA_QUAL>0 && LAT_CONFIG==1'\n",
    "     roicut : 'no'\n",
    "\n",
    "   # Set the ROI center to the coordinates of this source\n",
    "     glon : 0.\n",
    "     glat : 0.\n",
    "\n",
    "   fileio:\n",
    "      outdir : ''\n",
    "      logfile : 'out.log'\n",
    "      usescratch : False\n",
    "      scratchdir  : '/scratch'\n",
    "\n",
    "   gtlike:\n",
    "     edisp : True\n",
    "     edisp_bins : 0 # DO NOT CHANGE edisp_bins will be handled by Gammapy\n",
    "     irfs : 'P8R3_CLEAN_V3'\n",
    "\n",
    "   model:\n",
    "     src_roiwidth : 10.0 # This is used by Fermipy to compute the PSF RADMAX, even if no models are set\n",
    "\n",
    "\n",
    "```"
   ]
  },
  {
   "cell_type": "markdown",
   "metadata": {},
   "source": [
    "The most important points for Gammapy users are:\n",
    "\n",
    "- ``emin`` and ``emax`` in this file should be considered as the energy true range.\n",
    "  It should be larger that the reconstructed energy range.\n",
    "- ``edisp_bins : 0`` is strongly recommended at this stage otherwise you\n",
    "  might face inconsistencies in the energy axes of the different IRFs created by Fermipy.\n",
    "- The ``edisp_bins`` value will be redefined later on by Gammapy as a positive value\n",
    "  in order to create the reconstructed energy axis properly.\n",
    "- If you want to use the `$FERMI_DIR` variable to read the background models\n",
    "  it must also be defined in your Gammapy environment,\n",
    "  otherwise you have to define your own paths.\n",
    "- For this tutorial we copied the iso files in `$GAMMAPY_DATA/fermi-gc` and\n",
    "  edited the paths in the yaml file for simplicity.\n",
    "\n",
    "More generally in order to select a good binning it is important to know\n",
    "the instrument resolution, for that you can have a quick look at the\n",
    "IRFs in the [Fermi-LAT performance\n",
    "page](https://www.slac.stanford.edu/exp/glast/groups/canda/lat_Performance.htm)_.\n",
    "\n",
    "Since the energy resolution varies with energy, it is important to\n",
    "choose an energy binning that is fine enough to capture this energy\n",
    "dependence. That is why we recommend a binning with 8 to 10 bins per\n",
    "decade. The energy axes will be created such as it is linear in log space\n",
    "so it's better to define ``emin`` and ``emax`` such as they align with a log binning.\n",
    "Here we have as true energy range $\\log(emin) = 0.6 \\sim 4$ GeV to\n",
    "$\\log(emax) = 3.4 \\sim 2500$ GeV.\n",
    "While the reconstructed energy range of our analysis will be 10 GeV to 1000 GeV.\n",
    "\n",
    "The spatial binning should be of the same order of the PSF 68%\n",
    "containment radius which is in average 0.1 degree above 10 GeV and\n",
    "rapidly increases at lower energy. Ideally it should remain within a\n",
    "factor of 2 or 3 of the PSF radius at most. In order to properly take\n",
    "into account for the sources outside the region of interest that\n",
    "contribute inside due to the PSF we have to define a wider ``roiwidth``\n",
    "than our actual region of interest. Typically, we need a margin equal to the\n",
    "99% containment of the PSF on each side. Above 10 GeV considering only\n",
    "PSF2&3 the 99% PSF containment radius is about 1 degree. Thus, if we\n",
    "want to study a 3 degree radius around the GC we have to take a ``roiwidth`` of 8\n",
    "deg. (If considering lower energies or including PSF0 and PSF1, it should be much\n",
    "larger).\n",
    "\n",
    "\n"
   ]
  },
  {
   "cell_type": "markdown",
   "metadata": {},
   "source": [
    "## From Fermipy maps to Gammapy datasets\n",
    "\n",
    "In your Fermipy environment you have to run the following commands\n",
    "\n",
    "```python\n",
    "\n",
    "   from fermipy.gtanalysis import GTAnalysis\n",
    "   gta = GTAnalysis('config_fermipy_gc_example.yaml',logging={'verbosity' : 3})\n",
    "   gta.setup()\n",
    "\n",
    "   gta.compute_psf(overwrite=True) # this creates the psf kernel\n",
    "   gta.compute_drm(edisp_bins=0, overwrite=True) # this creates the energy dispersion matrix\n",
    "   # DO NOT CHANGE edisp_bins here, it will be redefined by Gammapy later on\n",
    "```\n",
    "\n",
    "This will produce a number of files including:\n",
    "\n",
    "- “ccube_00.fits” (counts)\n",
    "- “bexpmap_00.fits” (exposure)\n",
    "- “psf_00.fits” (psf)\n",
    "- “drm_00.fits” (edisp)\n",
    "\n",
    "\n",
    "\n"
   ]
  },
  {
   "cell_type": "markdown",
   "metadata": {},
   "source": [
    "In your Gammapy environment you can create the datasets using the\n",
    "same configuration file.\n",
    "\n",
    "\n"
   ]
  },
  {
   "cell_type": "code",
   "execution_count": 3,
   "metadata": {
    "collapsed": false,
    "jupyter": {
     "outputs_hidden": false
    }
   },
   "outputs": [
    {
     "name": "stderr",
     "output_type": "stream",
     "text": [
      "WARNING: FITSFixedWarning: 'datfix' made the change 'Set DATEREF to '2001-01-01T00:01:04.184' from MJDREF.\n",
      "Set MJD-OBS to 54682.655283 from DATE-OBS.\n",
      "Set MJD-END to 60614.993543 from DATE-END'. [astropy.wcs.wcs]\n",
      "WARNING: FITSFixedWarning: 'datfix' made the change 'Set DATEREF to '2001-01-01T00:01:04.184' from MJDREF.\n",
      "Set MJD-OBS to 54682.655283 from DATE-OBS.\n",
      "Set MJD-END to 60614.993543 from DATE-END'. [astropy.wcs.wcs]\n"
     ]
    },
    {
     "name": "stdout",
     "output_type": "stream",
     "text": [
      "Datasets\n",
      "--------\n",
      "\n",
      "Dataset 0: \n",
      "\n",
      "  Type       : MapDataset\n",
      "  Name       : P8R3_CLEAN_V3_PSF2_v1\n",
      "  Instrument : \n",
      "  Models     : ['isotropic_P8R3_CLEAN_V3_PSF2_v1']\n",
      "\n",
      "Dataset 1: \n",
      "\n",
      "  Type       : MapDataset\n",
      "  Name       : P8R3_CLEAN_V3_PSF3_v1\n",
      "  Instrument : \n",
      "  Models     : ['isotropic_P8R3_CLEAN_V3_PSF3_v1']\n",
      "\n",
      "\n"
     ]
    }
   ],
   "source": [
    "reader = FermipyDatasetsReader(\n",
    "    \"$GAMMAPY_DATA/fermi-gc/config_fermipy_gc_example.yaml\", edisp_bins=4\n",
    ")\n",
    "datasets = reader.read()\n",
    "print(datasets)"
   ]
  },
  {
   "cell_type": "markdown",
   "metadata": {},
   "source": [
    "Note that the ``edisp_bins`` is set again here as a positive number so\n",
    "Gammapy can create its reconstructed energy axis properly. The energy\n",
    "dispersion correction implemented Gammapy is closer to the version\n",
    "implemented in Fermitools >1.2.0, which take into account the interplay\n",
    "between the energy dispersion and PSF.\n",
    "\n",
    "Across most of the Fermi energy range, the level of migration in log10(E)\n",
    "remains within 0.2, increasing up to 0.4 below 100 MeV,\n",
    "due to energy dispersion. Therefore, we recommend that the\n",
    "product of \\|edisp_bins\\| and the width of the log10(E) bins be at\n",
    "least equal to 0.2. For a binning of 8 to 10 bins per decade, this\n",
    "corresponds to \\|edisp_bins\\| ≥ 2. For further information, see\n",
    "[Pass8_edisp_usage](https://fermi.gsfc.nasa.gov/ssc/data/analysis/documentation/Pass8_edisp_usage.html)_.\n",
    "In our case, we have 10 bins per decade and true energy axis starts\n",
    "at about 4 GeV, so with ``edisp_bins=4`` the reconstructed energy axis\n",
    "starts at 10 GeV:\n",
    "\n",
    "\n"
   ]
  },
  {
   "cell_type": "code",
   "execution_count": 4,
   "metadata": {
    "collapsed": false,
    "jupyter": {
     "outputs_hidden": false
    }
   },
   "outputs": [
    {
     "name": "stdout",
     "output_type": "stream",
     "text": [
      "MapAxis\n",
      "\n",
      "\tname       : energy_true\n",
      "\tunit       : 'MeV'     \n",
      "\tnbins      : 28        \n",
      "\tnode type  : edges     \n",
      "\tedges min  : 4.0e+03 MeV\n",
      "\tedges max  : 2.5e+06 MeV\n",
      "\tinterp     : log       \n",
      "\n",
      "MapAxis\n",
      "\n",
      "\tname       : energy    \n",
      "\tunit       : 'MeV'     \n",
      "\tnbins      : 20        \n",
      "\tnode type  : edges     \n",
      "\tedges min  : 1.0e+04 MeV\n",
      "\tedges max  : 1.0e+06 MeV\n",
      "\tinterp     : log       \n",
      "\n"
     ]
    }
   ],
   "source": [
    "print(datasets[0].exposure.geom.axes[\"energy_true\"])\n",
    "print(datasets[0].counts.geom.axes[\"energy\"])"
   ]
  },
  {
   "cell_type": "markdown",
   "metadata": {},
   "source": [
    "Note that selecting ``edisp_bins=2`` means the reconstructed energy\n",
    "of the counts geometry will start at $10^{0.8} \\sim 6.3$ GeV.\n",
    "If we want to start the analysis at 10 GeV in this case, we need to\n",
    "update the ``mask_fit`` to exclude the first 2 reconstructed energy bins.\n",
    "Considering more ``edisp_bins`` is generally safer but requires more memory\n",
    "and increases computation time.\n",
    "\n",
    "Alternatively, if you created the counts and IRF files from the\n",
    "Fermi-LAT science tools without Fermipy you can use the\n",
    "``create_dataset``  method. Note that in this case we cannot guarantee\n",
    "that your maps have the correct axes dimensions to be properly converted\n",
    "into Gammapy datasets.\n",
    "\n",
    "\n"
   ]
  },
  {
   "cell_type": "code",
   "execution_count": 5,
   "metadata": {
    "collapsed": false,
    "jupyter": {
     "outputs_hidden": false
    }
   },
   "outputs": [
    {
     "name": "stderr",
     "output_type": "stream",
     "text": [
      "WARNING: FITSFixedWarning: 'datfix' made the change 'Set DATEREF to '2001-01-01T00:01:04.184' from MJDREF.\n",
      "Set MJD-OBS to 54682.655283 from DATE-OBS.\n",
      "Set MJD-END to 60614.993543 from DATE-END'. [astropy.wcs.wcs]\n",
      "WARNING: FITSFixedWarning: 'datfix' made the change 'Set DATEREF to '2001-01-01T00:01:04.184' from MJDREF.\n",
      "Set MJD-OBS to 54682.655283 from DATE-OBS.\n",
      "Set MJD-END to 60614.993543 from DATE-END'. [astropy.wcs.wcs]\n"
     ]
    }
   ],
   "source": [
    "path = make_path(\"$GAMMAPY_DATA/fermi-gc\")\n",
    "dataset0 = reader.create_dataset(\n",
    "    path / \"ccube_00.fits\",\n",
    "    path / \"bexpmap_00.fits\",\n",
    "    path / \"psf_00.fits\",\n",
    "    path / \"drm_00.fits\",\n",
    "    isotropic_file=None,\n",
    "    edisp_bins=0,\n",
    "    name=\"fermi_lat_gc_psf2\",\n",
    ")\n",
    "dataset1 = reader.create_dataset(\n",
    "    path / \"ccube_01.fits\",\n",
    "    path / \"bexpmap_01.fits\",\n",
    "    path / \"psf_01.fits\",\n",
    "    path / \"drm_01.fits\",\n",
    "    isotropic_file=None,\n",
    "    edisp_bins=0,\n",
    "    name=\"fermi_lat_gc_psf3\",\n",
    ")\n",
    "\n",
    "datasets_fromST = Datasets([dataset0, dataset1])\n",
    "\n",
    "\n",
    "# The above was an alternative reading method we don't need those after\n",
    "del dataset0, dataset1, datasets_fromST"
   ]
  },
  {
   "cell_type": "markdown",
   "metadata": {},
   "source": [
    "## Fermi-LAT IRF properties\n",
    "\n",
    "### Exposure\n",
    "\n",
    "\n"
   ]
  },
  {
   "cell_type": "markdown",
   "metadata": {},
   "source": [
    "Exposure is almost constant across the field of view, with less than 5%\n",
    "variation at a given energy.\n",
    "\n",
    "\n"
   ]
  },
  {
   "cell_type": "code",
   "execution_count": 6,
   "metadata": {
    "collapsed": false,
    "jupyter": {
     "outputs_hidden": false
    }
   },
   "outputs": [
    {
     "data": {
      "application/vnd.jupyter.widget-view+json": {
       "model_id": "456fa99b27b643d58c644323582b6bbc",
       "version_major": 2,
       "version_minor": 0
      },
      "text/plain": [
       "interactive(children=(SelectionSlider(continuous_update=False, description='Select energy_true:', layout=Layou…"
      ]
     },
     "metadata": {},
     "output_type": "display_data"
    }
   ],
   "source": [
    "datasets[0].exposure.plot_interactive(add_cbar=True)\n",
    "plt.show()"
   ]
  },
  {
   "cell_type": "markdown",
   "metadata": {},
   "source": [
    "### PSF\n",
    "\n",
    "For Fermi-LAT, the PSF only varies little within a given regions of\n",
    "the sky, especially at high energies like what we have here.\n",
    "So we have only one PSF kernel.\n",
    "\n",
    "\n"
   ]
  },
  {
   "cell_type": "code",
   "execution_count": 7,
   "metadata": {
    "collapsed": false,
    "jupyter": {
     "outputs_hidden": false
    }
   },
   "outputs": [
    {
     "data": {
      "image/png": "[encoded data removed]",
      "text/plain": [
       "<Figure size 640x480 with 1 Axes>"
      ]
     },
     "metadata": {},
     "output_type": "display_data"
    }
   ],
   "source": [
    "datasets[0].psf.plot_containment_radius_vs_energy(fraction=(0.68, 0.95, 0.99))\n",
    "plt.show()"
   ]
  },
  {
   "cell_type": "markdown",
   "metadata": {},
   "source": [
    "## Region of interest and mask definition\n",
    "\n",
    "As mentioned previously, the width of dataset is larger that our actual\n",
    "region of interest in order to properly take into account for the\n",
    "sources outside that contributes inside due to the PSF. So we define the\n",
    "valid RoI for fitting by creating a ``mask_fit``.\n",
    "\n",
    "\n"
   ]
  },
  {
   "cell_type": "code",
   "execution_count": 8,
   "metadata": {
    "collapsed": false,
    "jupyter": {
     "outputs_hidden": false
    }
   },
   "outputs": [
    {
     "data": {
      "application/vnd.jupyter.widget-view+json": {
       "model_id": "9c6daa8583ee4beebdf8b4d05d2785a3",
       "version_major": 2,
       "version_minor": 0
      },
      "text/plain": [
       "interactive(children=(SelectionSlider(continuous_update=False, description='Select energy:', layout=Layout(wid…"
      ]
     },
     "metadata": {},
     "output_type": "display_data"
    }
   ],
   "source": [
    "margin = (\n",
    "    2.0 * u.deg\n",
    ")  # >1 deg should be fine for this dataset we take 2 so the notebook is faster\n",
    "geom = datasets[0].counts.geom\n",
    "mask_fit = Map.from_geom(geom, data=True, dtype=bool)\n",
    "mask_fit = mask_fit.binary_erode(width=margin, kernel=\"disk\")\n",
    "\n",
    "mask_fit.plot_interactive()\n",
    "plt.show()"
   ]
  },
  {
   "cell_type": "markdown",
   "metadata": {},
   "source": [
    "Now we attach it the datasets\n",
    "\n",
    "\n"
   ]
  },
  {
   "cell_type": "code",
   "execution_count": 9,
   "metadata": {
    "collapsed": false,
    "jupyter": {
     "outputs_hidden": false
    }
   },
   "outputs": [],
   "source": [
    "for d in datasets:\n",
    "    d.mask_fit = mask_fit"
   ]
  },
  {
   "cell_type": "markdown",
   "metadata": {},
   "source": [
    "## Models\n",
    "\n",
    "### Isotropic diffuse background\n",
    "\n",
    "The `~gammapy.datasets.FermipyDatasetsReader` also created one isotropic diffuse model\n",
    "for each dataset:\n",
    "\n",
    "\n"
   ]
  },
  {
   "cell_type": "code",
   "execution_count": 10,
   "metadata": {
    "collapsed": false,
    "jupyter": {
     "outputs_hidden": false
    }
   },
   "outputs": [
    {
     "name": "stdout",
     "output_type": "stream",
     "text": [
      "Models\n",
      "\n",
      "Component 0: SkyModel\n",
      "\n",
      "  Name                      : isotropic_P8R3_CLEAN_V3_PSF2_v1\n",
      "  Datasets names            : ['P8R3_CLEAN_V3_PSF2_v1']\n",
      "  Spectral model type       : CompoundSpectralModel\n",
      "  Spatial  model type       : ConstantSpatialModel\n",
      "  Temporal model type       : \n",
      "  Parameters:\n",
      "    tilt                  (frozen):      0.000                   \n",
      "    norm                          :      1.000   +/-    0.00             \n",
      "    reference             (frozen):      1.000       TeV         \n",
      "    value                 (frozen):      1.000       1 / sr      \n",
      "\n",
      "Component 1: SkyModel\n",
      "\n",
      "  Name                      : isotropic_P8R3_CLEAN_V3_PSF3_v1\n",
      "  Datasets names            : ['P8R3_CLEAN_V3_PSF3_v1']\n",
      "  Spectral model type       : CompoundSpectralModel\n",
      "  Spatial  model type       : ConstantSpatialModel\n",
      "  Temporal model type       : \n",
      "  Parameters:\n",
      "    tilt                  (frozen):      0.000                   \n",
      "    norm                          :      1.000   +/-    0.00             \n",
      "    reference             (frozen):      1.000       TeV         \n",
      "    value                 (frozen):      1.000       1 / sr      \n",
      "\n",
      "\n"
     ]
    }
   ],
   "source": [
    "models_iso = Models(datasets.models)\n",
    "print(models_iso)"
   ]
  },
  {
   "cell_type": "markdown",
   "metadata": {},
   "source": [
    "### Galactic diffuse background\n",
    "\n",
    "\n"
   ]
  },
  {
   "cell_type": "markdown",
   "metadata": {},
   "source": [
    "The Fermi-LAT collaboration provides a galactic diffuse emission model,\n",
    "that can be used as a background model for Fermi-LAT source analysis.\n",
    "These files are called usually IEM for interstellar emission model, the\n",
    "latest is\n",
    "[gll_iem_v07.fits](https://fermi.gsfc.nasa.gov/ssc/data/analysis/software/aux/4fgl/gll_iem_v07.fits)_.\n",
    "For details see the [BackgroundModels\n",
    "page](https://fermi.gsfc.nasa.gov/ssc/data/access/lat/BackgroundModels.html)_.\n",
    "If you have Fermipy installed it can also be found in\n",
    "`$FERMI_DIR/refdata/fermi/galdiffuse/gll_iem_v07.fits`\n",
    "\n",
    "Diffuse model maps are very large (100s of MB), so as an example here,\n",
    "we just load one that represents a small cutout for the Galactic center\n",
    "region.\n",
    "\n",
    "In this case, the maps are already in differential units, so we do not\n",
    "want to normalise it again.\n",
    "\n",
    "\n"
   ]
  },
  {
   "cell_type": "code",
   "execution_count": 11,
   "metadata": {
    "collapsed": false,
    "jupyter": {
     "outputs_hidden": false
    }
   },
   "outputs": [],
   "source": [
    "template_iem = TemplateSpatialModel.read(\n",
    "    filename=\"$GAMMAPY_DATA/fermi-gc/gll_iem_v07_gc.fits.gz\", normalize=False\n",
    ")\n",
    "\n",
    "model_iem = SkyModel(\n",
    "    spectral_model=PowerLawNormSpectralModel(),\n",
    "    spatial_model=template_iem,\n",
    "    name=\"diffuse-iem\",\n",
    ")"
   ]
  },
  {
   "cell_type": "markdown",
   "metadata": {},
   "source": [
    "Let’s look at the template :\n",
    "\n",
    "\n"
   ]
  },
  {
   "cell_type": "code",
   "execution_count": 12,
   "metadata": {
    "collapsed": false,
    "jupyter": {
     "outputs_hidden": false
    }
   },
   "outputs": [
    {
     "data": {
      "application/vnd.jupyter.widget-view+json": {
       "model_id": "81828a7499164e00b3218980f0f16544",
       "version_major": 2,
       "version_minor": 0
      },
      "text/plain": [
       "interactive(children=(SelectionSlider(continuous_update=False, description='Select energy_true:', layout=Layou…"
      ]
     },
     "metadata": {},
     "output_type": "display_data"
    }
   ],
   "source": [
    "template_iem.map.plot_interactive(add_cbar=True)\n",
    "plt.show()\n",
    "\n",
    "\n",
    "models_diffuse = models_iso + model_iem"
   ]
  },
  {
   "cell_type": "markdown",
   "metadata": {},
   "source": [
    "### Sources\n",
    "\n",
    "Source models can be loaded from the 4FGL catalog directly available in\n",
    "`$GAMMAPY_DATA`. For details see the [Fermi-LAT catalog\n",
    "page](https://fermi.gsfc.nasa.gov/ssc/data/access/lat/14yr_catalog/)_.\n",
    "\n",
    "\n"
   ]
  },
  {
   "cell_type": "code",
   "execution_count": 13,
   "metadata": {
    "collapsed": false,
    "jupyter": {
     "outputs_hidden": false
    }
   },
   "outputs": [],
   "source": [
    "catalog_4fgl = CATALOG_REGISTRY.get_cls(\"4fgl\")()  # load 4FGL catalog"
   ]
  },
  {
   "cell_type": "markdown",
   "metadata": {},
   "source": [
    "We want to select only the sources inside the dataset spatial geometry:\n",
    "\n",
    "\n"
   ]
  },
  {
   "cell_type": "code",
   "execution_count": 14,
   "metadata": {
    "collapsed": false,
    "jupyter": {
     "outputs_hidden": false
    }
   },
   "outputs": [
    {
     "name": "stderr",
     "output_type": "stream",
     "text": [
      "/Users/qremy/Work/GitHub/gammapy/gammapy/catalog/fermi.py:587: UserWarning: Warning: converting a masked element to nan.\n",
      "  \"index_2\": np.nan_to_num(float(self.data[\"Unc_PLEC_Exp_Index\"])),\n",
      "/Users/qremy/Work/GitHub/gammapy/gammapy/catalog/fermi.py:587: UserWarning: Warning: converting a masked element to nan.\n",
      "  \"index_2\": np.nan_to_num(float(self.data[\"Unc_PLEC_Exp_Index\"])),\n",
      "/Users/qremy/Work/GitHub/gammapy/gammapy/catalog/fermi.py:587: UserWarning: Warning: converting a masked element to nan.\n",
      "  \"index_2\": np.nan_to_num(float(self.data[\"Unc_PLEC_Exp_Index\"])),\n"
     ]
    }
   ],
   "source": [
    "in_geom = geom.to_image().contains(catalog_4fgl.positions)\n",
    "catalog_4fgl_gc = catalog_4fgl[in_geom]\n",
    "\n",
    "models_4fgl_gc = catalog_4fgl_gc.to_models()"
   ]
  },
  {
   "cell_type": "markdown",
   "metadata": {},
   "source": [
    "That's still quite a lot of sources\n",
    "\n",
    "\n"
   ]
  },
  {
   "cell_type": "code",
   "execution_count": 15,
   "metadata": {
    "collapsed": false,
    "jupyter": {
     "outputs_hidden": false
    }
   },
   "outputs": [
    {
     "name": "stdout",
     "output_type": "stream",
     "text": [
      "Number of source models 110\n"
     ]
    }
   ],
   "source": [
    "print(\"Number of source models\", len(models_4fgl_gc))"
   ]
  },
  {
   "cell_type": "markdown",
   "metadata": {},
   "source": [
    "In order to improve performances we can store all the sources outside\n",
    "the ``mask_fit`` region into a single template (the same could be done\n",
    "for all the sources we want to keep frozen).\n",
    "\n",
    "\n"
   ]
  },
  {
   "cell_type": "code",
   "execution_count": 16,
   "metadata": {
    "collapsed": false,
    "jupyter": {
     "outputs_hidden": false
    }
   },
   "outputs": [
    {
     "name": "stderr",
     "output_type": "stream",
     "text": [
      "The filename is not defined. Therefore, the model will not be serialised correctly. To set the filename, the \"template_model.filename\" attribute can be used.\n"
     ]
    },
    {
     "data": {
      "application/vnd.jupyter.widget-view+json": {
       "model_id": "82561ec9b9954cb281178d3085fcb48d",
       "version_major": 2,
       "version_minor": 0
      },
      "text/plain": [
       "interactive(children=(SelectionSlider(continuous_update=False, description='Select energy_true:', layout=Layou…"
      ]
     },
     "metadata": {},
     "output_type": "display_data"
    }
   ],
   "source": [
    "sources_ouside_roi = models_4fgl_gc.select_mask(~mask_fit, use_evaluation_region=False)\n",
    "sources_inside_roi = Models([m for m in models_4fgl_gc if m not in sources_ouside_roi])\n",
    "\n",
    "geom_true = datasets[0].exposure.geom\n",
    "sources_outside_roi = sources_ouside_roi.to_template_sky_model(\n",
    "    geom_true, name=\"sources_outside\"\n",
    ")\n",
    "\n",
    "sources_outside_roi.spatial_model.filename = \"sources_outside.fits\"\n",
    "\n",
    "sources_outside_roi.spatial_model.map.plot_interactive(add_cbar=True)\n",
    "plt.show()"
   ]
  },
  {
   "cell_type": "markdown",
   "metadata": {},
   "source": [
    "Now we have less models to describe the sources\n",
    "\n",
    "\n"
   ]
  },
  {
   "cell_type": "code",
   "execution_count": 17,
   "metadata": {
    "collapsed": false,
    "jupyter": {
     "outputs_hidden": false
    }
   },
   "outputs": [
    {
     "name": "stdout",
     "output_type": "stream",
     "text": [
      "Number of source models 28\n"
     ]
    }
   ],
   "source": [
    "models_sources = sources_inside_roi + sources_outside_roi\n",
    "\n",
    "print(\"Number of source models\", len(models_sources))"
   ]
  },
  {
   "cell_type": "markdown",
   "metadata": {},
   "source": [
    "## Fit\n",
    "\n",
    "Now, the big finale: let’s do a 3D of the brightest sources and IEM\n",
    "models.\n",
    "\n",
    "First we attach the models to the datasets.\n",
    "\n",
    "\n"
   ]
  },
  {
   "cell_type": "code",
   "execution_count": 18,
   "metadata": {
    "collapsed": false,
    "jupyter": {
     "outputs_hidden": false
    }
   },
   "outputs": [
    {
     "name": "stdout",
     "output_type": "stream",
     "text": [
      "Number of models 31\n"
     ]
    }
   ],
   "source": [
    "models = models_sources + models_diffuse\n",
    "\n",
    "datasets.models = models\n",
    "\n",
    "print(\"Number of models\", len(models))"
   ]
  },
  {
   "cell_type": "markdown",
   "metadata": {},
   "source": [
    "Let’s find the 3 brightest sources:\n",
    "\n",
    "\n"
   ]
  },
  {
   "cell_type": "code",
   "execution_count": 19,
   "metadata": {
    "collapsed": false,
    "jupyter": {
     "outputs_hidden": false
    }
   },
   "outputs": [
    {
     "name": "stdout",
     "output_type": "stream",
     "text": [
      "['4FGL J1739.4-3015', '4FGL J1751.6-3002', '4FGL J1754.3-2915']\n"
     ]
    }
   ],
   "source": [
    "n_brightest = 3\n",
    "integrated_flux = u.Quantity(\n",
    "    [m.spectral_model.integral(10 * u.GeV, 1 * u.TeV) for m in sources_inside_roi]\n",
    ")\n",
    "order = np.argsort(integrated_flux)\n",
    "selected_sources = Models([sources_inside_roi[int(ii)] for ii in order[:n_brightest]])\n",
    "\n",
    "print(selected_sources.names)\n",
    "\n",
    "free_models = selected_sources + model_iem"
   ]
  },
  {
   "cell_type": "markdown",
   "metadata": {},
   "source": [
    "We keep only their normalisation free for simplicity:\n",
    "\n",
    "\n"
   ]
  },
  {
   "cell_type": "code",
   "execution_count": 20,
   "metadata": {},
   "outputs": [
    {
     "name": "stdout",
     "output_type": "stream",
     "text": [
      "Number of free parameters 4\n"
     ]
    }
   ],
   "source": [
    "\n",
    "models.freeze()  # freeze all parameters\n",
    "\n",
    "# and unfreeze only the amplitude or norm of the selected models\n",
    "for p in free_models.parameters:\n",
    "    if p.name in [\"amplitude\", \"norm\"]:\n",
    "        p.frozen = False\n",
    "        p.min = 0\n",
    "\n",
    "print(\"Number of free parameters\", len(models.parameters.free_parameters))\n"
   ]
  },
  {
   "cell_type": "code",
   "execution_count": 21,
   "metadata": {
    "collapsed": false,
    "jupyter": {
     "outputs_hidden": false
    }
   },
   "outputs": [
    {
     "name": "stdout",
     "output_type": "stream",
     "text": [
      "OptimizeResult\n",
      "\n",
      "\tbackend    : minuit\n",
      "\tmethod     : migrad\n",
      "\tsuccess    : True\n",
      "\tmessage    : Optimization terminated successfully.\n",
      "\tnfev       : 97\n",
      "\ttotal stat : 20322.54\n",
      "\n",
      "CovarianceResult\n",
      "\n",
      "\tbackend    : minuit\n",
      "\tmethod     : hesse\n",
      "\tsuccess    : True\n",
      "\tmessage    : Hesse terminated successfully.\n",
      "\n",
      "CPU times: user 5.21 s, sys: 84 ms, total: 5.29 s\n",
      "Wall time: 5.3 s\n"
     ]
    }
   ],
   "source": [
    "%%time\n",
    "\n",
    "fit = Fit()\n",
    "result = fit.run(datasets=datasets)\n",
    "\n",
    "print(result)"
   ]
  },
  {
   "cell_type": "markdown",
   "metadata": {},
   "source": [
    "## Residual TS map\n",
    "\n",
    "Now we can look at the residual TS map to check there is no significant\n",
    "excess left:\n",
    "\n",
    "\n"
   ]
  },
  {
   "cell_type": "code",
   "execution_count": 22,
   "metadata": {
    "collapsed": false,
    "jupyter": {
     "outputs_hidden": false
    }
   },
   "outputs": [],
   "source": [
    "spatial_model = PointSpatialModel()\n",
    "spectral_model = PowerLawSpectralModel(index=2)\n",
    "model = SkyModel(spatial_model=spatial_model, spectral_model=spectral_model)\n",
    "\n",
    "ts_estimator = TSMapEstimator(\n",
    "    model,\n",
    "    kernel_width=\"1 deg\",  # this set close to the 95-99% containment radius of the PSF\n",
    "    selection_optional=[],\n",
    "    sum_over_energy_groups=True,\n",
    "    energy_edges=[10, 1000] * u.GeV,\n",
    ")"
   ]
  },
  {
   "cell_type": "code",
   "execution_count": 23,
   "metadata": {},
   "outputs": [
    {
     "name": "stdout",
     "output_type": "stream",
     "text": [
      "CPU times: user 2.57 s, sys: 45.7 ms, total: 2.61 s\n",
      "Wall time: 2.61 s\n"
     ]
    }
   ],
   "source": [
    "%%time\n",
    "ts_results = ts_estimator.run(datasets)\n"
   ]
  },
  {
   "cell_type": "code",
   "execution_count": 24,
   "metadata": {},
   "outputs": [
    {
     "data": {
      "image/png": "[encoded data removed]",
      "text/plain": [
       "<Figure size 700x500 with 2 Axes>"
      ]
     },
     "metadata": {},
     "output_type": "display_data"
    }
   ],
   "source": [
    "image = ts_results[\"sqrt_ts\"]\n",
    "image = image.cutout(\n",
    "    image.geom.center_skydir, width=np.max(image.geom.width) - 2 * margin\n",
    ")\n",
    "\n",
    "fig = plt.figure(figsize=(7, 5))\n",
    "ax = image.plot(\n",
    "    clim=[-8, 8],\n",
    "    cmap=plt.cm.RdBu_r,\n",
    "    add_cbar=True,\n",
    "    kwargs_colorbar={\"label\": r\"$\\sqrt{TS}$ [$\\sigma$]\"},\n",
    ")\n",
    "sources_inside_roi.plot_regions(\n",
    "    ax=ax, edgecolor=\"g\", linestyle=\"-\", kwargs_point=dict(marker=\".\")\n",
    ")\n",
    "plt.show()"
   ]
  },
  {
   "cell_type": "markdown",
   "metadata": {},
   "source": [
    "## Serialisation\n",
    "\n",
    "To serialise the created dataset, you must proceed through the Datasets\n",
    "API\n",
    "\n",
    "\n"
   ]
  },
  {
   "cell_type": "code",
   "execution_count": 25,
   "metadata": {
    "collapsed": false,
    "jupyter": {
     "outputs_hidden": false
    }
   },
   "outputs": [
    {
     "name": "stderr",
     "output_type": "stream",
     "text": [
      "Template file already exits, and overwrite is False\n",
      "Template file already exits, and overwrite is False\n",
      "Parameter 'value' not defined in YAML file. Using default value: 1.0 sr-1\n",
      "Parameter 'value' not defined in YAML file. Using default value: 1.0 sr-1\n"
     ]
    }
   ],
   "source": [
    "datasets.write(\n",
    "    filename=\"fermi_lat_gc_datasets.yaml\",\n",
    "    filename_models=\"fermi_lat_gc_models.yaml\",\n",
    "    overwrite=True,\n",
    ")\n",
    "datasets_read = Datasets.read(\n",
    "    filename=\"fermi_lat_gc_datasets.yaml\", filename_models=\"fermi_lat_gc_models.yaml\"\n",
    ")"
   ]
  },
  {
   "cell_type": "markdown",
   "metadata": {},
   "source": [
    "## Exercises\n",
    "\n",
    "- Fit the position and spectrum of the source [SNR\n",
    "  G0.9+0.1](http://gamma-sky.net/#/cat/tev/110)_.\n",
    "- Make maps and fit the position and spectrum of the [Crab\n",
    "  nebula](http://gamma-sky.net/#/cat/tev/25)_.\n",
    "\n",
    "\n"
   ]
  },
  {
   "cell_type": "markdown",
   "metadata": {},
   "source": [
    "## Summary\n",
    "\n",
    "In this tutorial you have seen how to work with Fermi-LAT data with\n",
    "Gammapy. You have to use Fermipy or the Fermi ST to perform the data\n",
    "reduction then you can use Gammapy for analysis using the same methods\n",
    "that are used to analyse IACT data.\n",
    "\n",
    "\n"
   ]
  }
 ],
 "metadata": {
  "kernelspec": {
   "display_name": "Python 3 (ipykernel)",
   "language": "python",
   "name": "python3"
  },
  "language_info": {
   "codemirror_mode": {
    "name": "ipython",
    "version": 3
   },
   "file_extension": ".py",
   "mimetype": "text/x-python",
   "name": "python",
   "nbconvert_exporter": "python",
   "pygments_lexer": "ipython3",
   "version": "3.11.10"
  }
 },
 "nbformat": 4,
 "nbformat_minor": 4
}
